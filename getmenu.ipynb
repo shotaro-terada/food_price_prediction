{
 "cells": [
  {
   "cell_type": "code",
   "execution_count": null,
   "id": "1fb5c608",
   "metadata": {},
   "outputs": [],
   "source": []
  },
  {
   "cell_type": "code",
   "execution_count": 16,
   "id": "1c36f366",
   "metadata": {
    "scrolled": false
   },
   "outputs": [],
   "source": [
    "import pandas as pd\n",
    "from bs4 import BeautifulSoup\n",
    "import requests\n",
    "\n",
    "def get_dtlmenu_links(url):\n",
    "    res = requests.get(url)\n",
    "    soup = BeautifulSoup(res.text, 'html.parser')\n",
    "    links = soup.find_all('a', {'class': 'hyakumeiten-shop__target js-sitecatalyst-link-track'})\n",
    "    dtlmenu_urls = [link.get('href') if 'dtlmenu' in link.get('href') else link.get('href').rstrip('/') + '/dtlmenu/' for link in links]\n",
    "    return dtlmenu_urls\n",
    "\n",
    "def get_menu_data(url):\n",
    "    res = requests.get(url)\n",
    "    soup = BeautifulSoup(res.text, 'html.parser')\n",
    "\n",
    "    # class=\"rstdtl-menu-lst__contents\"で囲まれたデータから価格、画像URLを取得\n",
    "    contents = soup.find_all('div', {'class': 'rstdtl-menu-lst__contents'})\n",
    "    data = []\n",
    "    for content in contents:\n",
    "        price_p = content.find('p', {'class': 'rstdtl-menu-lst__price'})\n",
    "        img_div = content.find('div', {'class': 'rstdtl-menu-lst__img'})\n",
    "        \n",
    "        # 価格と画像が存在する場合のみデータを取得\n",
    "        if price_p is not None and img_div is not None:\n",
    "            price = price_p.text\n",
    "            img_url = img_div.find('a')['href']\n",
    "            data.append((price, img_url))\n",
    "    \n",
    "    return data\n",
    "\n",
    "# 入手した各urlからデータを取得\n",
    "base_url = 'https://award.tabelog.com/hyakumeiten/teishoku'\n",
    "dtlmenu_links = get_dtlmenu_links(base_url)\n",
    "all_data = []\n",
    "for link in dtlmenu_links:\n",
    "    data = get_menu_data(link)\n",
    "    all_data.extend(data)\n",
    "\n",
    "# 出力\n",
    "df = pd.DataFrame(all_data, columns=['price', 'img_url'])\n",
    "df.to_csv('menu_data.csv', index=False)\n"
   ]
  },
  {
   "cell_type": "code",
   "execution_count": null,
   "id": "64eabe76",
   "metadata": {},
   "outputs": [],
   "source": []
  }
 ],
 "metadata": {
  "kernelspec": {
   "display_name": "Python 3 (ipykernel)",
   "language": "python",
   "name": "python3"
  },
  "language_info": {
   "codemirror_mode": {
    "name": "ipython",
    "version": 3
   },
   "file_extension": ".py",
   "mimetype": "text/x-python",
   "name": "python",
   "nbconvert_exporter": "python",
   "pygments_lexer": "ipython3",
   "version": "3.8.16"
  }
 },
 "nbformat": 4,
 "nbformat_minor": 5
}
